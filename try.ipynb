{
 "cells": [
  {
   "cell_type": "code",
   "execution_count": 1,
   "id": "30cb8222",
   "metadata": {},
   "outputs": [],
   "source": [
    "import pandas as pd\n",
    "import numpy as np\n",
    "import matplotlib.pyplot as plt\n",
    "import seaborn as sns\n",
    "from sklearn.preprocessing import LabelEncoder, StandardScaler\n",
    "import sys\n",
    "import networkx as nx"
   ]
  },
  {
   "cell_type": "code",
   "execution_count": 2,
   "id": "bb45f9f6",
   "metadata": {},
   "outputs": [],
   "source": [
    "# Load data training dan testing\n",
    "df_train = pd.read_csv('UNSW_NB15_training-set.csv', sep=',', engine='python')\n",
    "df_test = pd.read_csv('UNSW_NB15_testing-set.csv', sep=',', engine='python')"
   ]
  },
  {
   "cell_type": "code",
   "execution_count": 3,
   "id": "e855578c",
   "metadata": {},
   "outputs": [
    {
     "data": {
      "text/html": [
       "<div>\n",
       "<style scoped>\n",
       "    .dataframe tbody tr th:only-of-type {\n",
       "        vertical-align: middle;\n",
       "    }\n",
       "\n",
       "    .dataframe tbody tr th {\n",
       "        vertical-align: top;\n",
       "    }\n",
       "\n",
       "    .dataframe thead th {\n",
       "        text-align: right;\n",
       "    }\n",
       "</style>\n",
       "<table border=\"1\" class=\"dataframe\">\n",
       "  <thead>\n",
       "    <tr style=\"text-align: right;\">\n",
       "      <th></th>\n",
       "      <th>id</th>\n",
       "      <th>dur</th>\n",
       "      <th>proto</th>\n",
       "      <th>service</th>\n",
       "      <th>state</th>\n",
       "      <th>spkts</th>\n",
       "      <th>dpkts</th>\n",
       "      <th>sbytes</th>\n",
       "      <th>dbytes</th>\n",
       "      <th>rate</th>\n",
       "      <th>...</th>\n",
       "      <th>ct_dst_sport_ltm</th>\n",
       "      <th>ct_dst_src_ltm</th>\n",
       "      <th>is_ftp_login</th>\n",
       "      <th>ct_ftp_cmd</th>\n",
       "      <th>ct_flw_http_mthd</th>\n",
       "      <th>ct_src_ltm</th>\n",
       "      <th>ct_srv_dst</th>\n",
       "      <th>is_sm_ips_ports</th>\n",
       "      <th>attack_cat</th>\n",
       "      <th>label</th>\n",
       "    </tr>\n",
       "  </thead>\n",
       "  <tbody>\n",
       "    <tr>\n",
       "      <th>0</th>\n",
       "      <td>1</td>\n",
       "      <td>0.000011</td>\n",
       "      <td>udp</td>\n",
       "      <td>-</td>\n",
       "      <td>INT</td>\n",
       "      <td>2</td>\n",
       "      <td>0</td>\n",
       "      <td>496</td>\n",
       "      <td>0</td>\n",
       "      <td>90909.090200</td>\n",
       "      <td>...</td>\n",
       "      <td>1</td>\n",
       "      <td>2</td>\n",
       "      <td>0</td>\n",
       "      <td>0</td>\n",
       "      <td>0</td>\n",
       "      <td>1</td>\n",
       "      <td>2</td>\n",
       "      <td>0</td>\n",
       "      <td>Normal</td>\n",
       "      <td>0</td>\n",
       "    </tr>\n",
       "    <tr>\n",
       "      <th>1</th>\n",
       "      <td>2</td>\n",
       "      <td>0.000008</td>\n",
       "      <td>udp</td>\n",
       "      <td>-</td>\n",
       "      <td>INT</td>\n",
       "      <td>2</td>\n",
       "      <td>0</td>\n",
       "      <td>1762</td>\n",
       "      <td>0</td>\n",
       "      <td>125000.000300</td>\n",
       "      <td>...</td>\n",
       "      <td>1</td>\n",
       "      <td>2</td>\n",
       "      <td>0</td>\n",
       "      <td>0</td>\n",
       "      <td>0</td>\n",
       "      <td>1</td>\n",
       "      <td>2</td>\n",
       "      <td>0</td>\n",
       "      <td>Normal</td>\n",
       "      <td>0</td>\n",
       "    </tr>\n",
       "    <tr>\n",
       "      <th>2</th>\n",
       "      <td>3</td>\n",
       "      <td>0.000005</td>\n",
       "      <td>udp</td>\n",
       "      <td>-</td>\n",
       "      <td>INT</td>\n",
       "      <td>2</td>\n",
       "      <td>0</td>\n",
       "      <td>1068</td>\n",
       "      <td>0</td>\n",
       "      <td>200000.005100</td>\n",
       "      <td>...</td>\n",
       "      <td>1</td>\n",
       "      <td>3</td>\n",
       "      <td>0</td>\n",
       "      <td>0</td>\n",
       "      <td>0</td>\n",
       "      <td>1</td>\n",
       "      <td>3</td>\n",
       "      <td>0</td>\n",
       "      <td>Normal</td>\n",
       "      <td>0</td>\n",
       "    </tr>\n",
       "    <tr>\n",
       "      <th>3</th>\n",
       "      <td>4</td>\n",
       "      <td>0.000006</td>\n",
       "      <td>udp</td>\n",
       "      <td>-</td>\n",
       "      <td>INT</td>\n",
       "      <td>2</td>\n",
       "      <td>0</td>\n",
       "      <td>900</td>\n",
       "      <td>0</td>\n",
       "      <td>166666.660800</td>\n",
       "      <td>...</td>\n",
       "      <td>1</td>\n",
       "      <td>3</td>\n",
       "      <td>0</td>\n",
       "      <td>0</td>\n",
       "      <td>0</td>\n",
       "      <td>2</td>\n",
       "      <td>3</td>\n",
       "      <td>0</td>\n",
       "      <td>Normal</td>\n",
       "      <td>0</td>\n",
       "    </tr>\n",
       "    <tr>\n",
       "      <th>4</th>\n",
       "      <td>5</td>\n",
       "      <td>0.000010</td>\n",
       "      <td>udp</td>\n",
       "      <td>-</td>\n",
       "      <td>INT</td>\n",
       "      <td>2</td>\n",
       "      <td>0</td>\n",
       "      <td>2126</td>\n",
       "      <td>0</td>\n",
       "      <td>100000.002500</td>\n",
       "      <td>...</td>\n",
       "      <td>1</td>\n",
       "      <td>3</td>\n",
       "      <td>0</td>\n",
       "      <td>0</td>\n",
       "      <td>0</td>\n",
       "      <td>2</td>\n",
       "      <td>3</td>\n",
       "      <td>0</td>\n",
       "      <td>Normal</td>\n",
       "      <td>0</td>\n",
       "    </tr>\n",
       "    <tr>\n",
       "      <th>...</th>\n",
       "      <td>...</td>\n",
       "      <td>...</td>\n",
       "      <td>...</td>\n",
       "      <td>...</td>\n",
       "      <td>...</td>\n",
       "      <td>...</td>\n",
       "      <td>...</td>\n",
       "      <td>...</td>\n",
       "      <td>...</td>\n",
       "      <td>...</td>\n",
       "      <td>...</td>\n",
       "      <td>...</td>\n",
       "      <td>...</td>\n",
       "      <td>...</td>\n",
       "      <td>...</td>\n",
       "      <td>...</td>\n",
       "      <td>...</td>\n",
       "      <td>...</td>\n",
       "      <td>...</td>\n",
       "      <td>...</td>\n",
       "      <td>...</td>\n",
       "    </tr>\n",
       "    <tr>\n",
       "      <th>82327</th>\n",
       "      <td>82328</td>\n",
       "      <td>0.000005</td>\n",
       "      <td>udp</td>\n",
       "      <td>-</td>\n",
       "      <td>INT</td>\n",
       "      <td>2</td>\n",
       "      <td>0</td>\n",
       "      <td>104</td>\n",
       "      <td>0</td>\n",
       "      <td>200000.005100</td>\n",
       "      <td>...</td>\n",
       "      <td>1</td>\n",
       "      <td>2</td>\n",
       "      <td>0</td>\n",
       "      <td>0</td>\n",
       "      <td>0</td>\n",
       "      <td>2</td>\n",
       "      <td>1</td>\n",
       "      <td>0</td>\n",
       "      <td>Normal</td>\n",
       "      <td>0</td>\n",
       "    </tr>\n",
       "    <tr>\n",
       "      <th>82328</th>\n",
       "      <td>82329</td>\n",
       "      <td>1.106101</td>\n",
       "      <td>tcp</td>\n",
       "      <td>-</td>\n",
       "      <td>FIN</td>\n",
       "      <td>20</td>\n",
       "      <td>8</td>\n",
       "      <td>18062</td>\n",
       "      <td>354</td>\n",
       "      <td>24.410067</td>\n",
       "      <td>...</td>\n",
       "      <td>1</td>\n",
       "      <td>1</td>\n",
       "      <td>0</td>\n",
       "      <td>0</td>\n",
       "      <td>0</td>\n",
       "      <td>3</td>\n",
       "      <td>2</td>\n",
       "      <td>0</td>\n",
       "      <td>Normal</td>\n",
       "      <td>0</td>\n",
       "    </tr>\n",
       "    <tr>\n",
       "      <th>82329</th>\n",
       "      <td>82330</td>\n",
       "      <td>0.000000</td>\n",
       "      <td>arp</td>\n",
       "      <td>-</td>\n",
       "      <td>INT</td>\n",
       "      <td>1</td>\n",
       "      <td>0</td>\n",
       "      <td>46</td>\n",
       "      <td>0</td>\n",
       "      <td>0.000000</td>\n",
       "      <td>...</td>\n",
       "      <td>1</td>\n",
       "      <td>1</td>\n",
       "      <td>0</td>\n",
       "      <td>0</td>\n",
       "      <td>0</td>\n",
       "      <td>1</td>\n",
       "      <td>1</td>\n",
       "      <td>1</td>\n",
       "      <td>Normal</td>\n",
       "      <td>0</td>\n",
       "    </tr>\n",
       "    <tr>\n",
       "      <th>82330</th>\n",
       "      <td>82331</td>\n",
       "      <td>0.000000</td>\n",
       "      <td>arp</td>\n",
       "      <td>-</td>\n",
       "      <td>INT</td>\n",
       "      <td>1</td>\n",
       "      <td>0</td>\n",
       "      <td>46</td>\n",
       "      <td>0</td>\n",
       "      <td>0.000000</td>\n",
       "      <td>...</td>\n",
       "      <td>1</td>\n",
       "      <td>1</td>\n",
       "      <td>0</td>\n",
       "      <td>0</td>\n",
       "      <td>0</td>\n",
       "      <td>1</td>\n",
       "      <td>1</td>\n",
       "      <td>1</td>\n",
       "      <td>Normal</td>\n",
       "      <td>0</td>\n",
       "    </tr>\n",
       "    <tr>\n",
       "      <th>82331</th>\n",
       "      <td>82332</td>\n",
       "      <td>0.000009</td>\n",
       "      <td>udp</td>\n",
       "      <td>-</td>\n",
       "      <td>INT</td>\n",
       "      <td>2</td>\n",
       "      <td>0</td>\n",
       "      <td>104</td>\n",
       "      <td>0</td>\n",
       "      <td>111111.107200</td>\n",
       "      <td>...</td>\n",
       "      <td>1</td>\n",
       "      <td>1</td>\n",
       "      <td>0</td>\n",
       "      <td>0</td>\n",
       "      <td>0</td>\n",
       "      <td>1</td>\n",
       "      <td>1</td>\n",
       "      <td>0</td>\n",
       "      <td>Normal</td>\n",
       "      <td>0</td>\n",
       "    </tr>\n",
       "  </tbody>\n",
       "</table>\n",
       "<p>82332 rows × 45 columns</p>\n",
       "</div>"
      ],
      "text/plain": [
       "          id       dur proto service state  spkts  dpkts  sbytes  dbytes  \\\n",
       "0          1  0.000011   udp       -   INT      2      0     496       0   \n",
       "1          2  0.000008   udp       -   INT      2      0    1762       0   \n",
       "2          3  0.000005   udp       -   INT      2      0    1068       0   \n",
       "3          4  0.000006   udp       -   INT      2      0     900       0   \n",
       "4          5  0.000010   udp       -   INT      2      0    2126       0   \n",
       "...      ...       ...   ...     ...   ...    ...    ...     ...     ...   \n",
       "82327  82328  0.000005   udp       -   INT      2      0     104       0   \n",
       "82328  82329  1.106101   tcp       -   FIN     20      8   18062     354   \n",
       "82329  82330  0.000000   arp       -   INT      1      0      46       0   \n",
       "82330  82331  0.000000   arp       -   INT      1      0      46       0   \n",
       "82331  82332  0.000009   udp       -   INT      2      0     104       0   \n",
       "\n",
       "                rate  ...  ct_dst_sport_ltm  ct_dst_src_ltm  is_ftp_login  \\\n",
       "0       90909.090200  ...                 1               2             0   \n",
       "1      125000.000300  ...                 1               2             0   \n",
       "2      200000.005100  ...                 1               3             0   \n",
       "3      166666.660800  ...                 1               3             0   \n",
       "4      100000.002500  ...                 1               3             0   \n",
       "...              ...  ...               ...             ...           ...   \n",
       "82327  200000.005100  ...                 1               2             0   \n",
       "82328      24.410067  ...                 1               1             0   \n",
       "82329       0.000000  ...                 1               1             0   \n",
       "82330       0.000000  ...                 1               1             0   \n",
       "82331  111111.107200  ...                 1               1             0   \n",
       "\n",
       "       ct_ftp_cmd  ct_flw_http_mthd  ct_src_ltm  ct_srv_dst  is_sm_ips_ports  \\\n",
       "0               0                 0           1           2                0   \n",
       "1               0                 0           1           2                0   \n",
       "2               0                 0           1           3                0   \n",
       "3               0                 0           2           3                0   \n",
       "4               0                 0           2           3                0   \n",
       "...           ...               ...         ...         ...              ...   \n",
       "82327           0                 0           2           1                0   \n",
       "82328           0                 0           3           2                0   \n",
       "82329           0                 0           1           1                1   \n",
       "82330           0                 0           1           1                1   \n",
       "82331           0                 0           1           1                0   \n",
       "\n",
       "       attack_cat  label  \n",
       "0          Normal      0  \n",
       "1          Normal      0  \n",
       "2          Normal      0  \n",
       "3          Normal      0  \n",
       "4          Normal      0  \n",
       "...           ...    ...  \n",
       "82327      Normal      0  \n",
       "82328      Normal      0  \n",
       "82329      Normal      0  \n",
       "82330      Normal      0  \n",
       "82331      Normal      0  \n",
       "\n",
       "[82332 rows x 45 columns]"
      ]
     },
     "execution_count": 3,
     "metadata": {},
     "output_type": "execute_result"
    }
   ],
   "source": [
    "df_train"
   ]
  },
  {
   "cell_type": "markdown",
   "id": "6496df95",
   "metadata": {},
   "source": [
    "### Drop Kolom Tak Terpakai & Pisahkan Label"
   ]
  },
  {
   "cell_type": "markdown",
   "id": "ab8d4f85",
   "metadata": {},
   "source": [
    "- id : Ini hanya nomor urut atau penanda unik, tidak ada informasi jaringan di dalamnya. Jadi tidak berguna untuk prediksi.\n",
    "- attack_cat : Ini adalah kategori serangan (misalnya: Fuzzers, DoS, Reconnaissance). Biasanya ini bisa dipakai untuk multi-class classification. Tapi kalau kita hanya ingin mendeteksi serangan vs tidak (binary classification), maka kita cukup pakai label saja.\n",
    "- label : Ini adalah target/label yang ingin kita prediksi, jadi harus dipisahkan ke y_train, bukan jadi bagian dari input."
   ]
  },
  {
   "cell_type": "code",
   "execution_count": 4,
   "id": "c0ff3e91",
   "metadata": {},
   "outputs": [],
   "source": [
    "drop_cols = ['id', 'attack_cat', 'label']\n",
    "X_train = df_train.drop(columns=drop_cols)\n",
    "y_train = df_train['label']"
   ]
  },
  {
   "cell_type": "markdown",
   "id": "110133d1",
   "metadata": {},
   "source": [
    "### Encoding Kolom Kategorikal"
   ]
  },
  {
   "cell_type": "code",
   "execution_count": 5,
   "id": "31b8b32c",
   "metadata": {},
   "outputs": [],
   "source": [
    "from sklearn.preprocessing import LabelEncoder\n",
    "\n",
    "cat_cols = ['proto', 'service', 'state']\n",
    "label_encoders = {}\n",
    "\n",
    "for col in cat_cols:\n",
    "    le = LabelEncoder()\n",
    "    X_train[col] = le.fit_transform(X_train[col])\n",
    "    label_encoders[col] = le"
   ]
  },
  {
   "cell_type": "markdown",
   "id": "c1feee9d",
   "metadata": {},
   "source": [
    "### Normalisasi Fitur Numerik"
   ]
  },
  {
   "cell_type": "code",
   "execution_count": 6,
   "id": "e6478bf5",
   "metadata": {},
   "outputs": [],
   "source": [
    "from sklearn.preprocessing import StandardScaler\n",
    "\n",
    "scaler = StandardScaler()\n",
    "X_scaled = scaler.fit_transform(X_train)"
   ]
  },
  {
   "cell_type": "markdown",
   "id": "fafef757",
   "metadata": {},
   "source": [
    "# Membangun GNN"
   ]
  },
  {
   "cell_type": "markdown",
   "id": "d38d7931",
   "metadata": {},
   "source": [
    "Node = Record, Edge = Koneksi berdasarkan kemiripan fitur (cosine similarity). Ini cocok untuk mendeteksi serangan berdasarkan pola data yang mirip satu sama lain."
   ]
  },
  {
   "cell_type": "markdown",
   "id": "7770d28b",
   "metadata": {},
   "source": [
    "Membangun struktur graph dari data tabular menggunakan pendekatan K-Nearest Neighbors berdasarkan kemiripan kosinus antar sampel (fitur) dari data tabular agar bisa digunakan di Graph Neural Network (GNN) untuk feature learning dan anomaly detection."
   ]
  },
  {
   "cell_type": "markdown",
   "id": "3f3848b8",
   "metadata": {},
   "source": [
    "### K-Nearest Neighbors (KNN) Graph Construction"
   ]
  },
  {
   "cell_type": "code",
   "execution_count": 7,
   "id": "9a6b34f2",
   "metadata": {},
   "outputs": [
    {
     "name": "stdout",
     "output_type": "stream",
     "text": [
      "Total edges: 1646640\n"
     ]
    }
   ],
   "source": [
    "from sklearn.neighbors import NearestNeighbors\n",
    "import torch\n",
    "\n",
    "# Set jumlah tetangga (misal: 10 terdekat)\n",
    "k_neighbors = 10\n",
    "nn = NearestNeighbors(n_neighbors=k_neighbors + 1, metric='cosine')  # +1 karena termasuk dirinya sendiri\n",
    "nn.fit(X_scaled)\n",
    "\n",
    "# Cari tetangga terdekat\n",
    "distances, indices = nn.kneighbors(X_scaled)\n",
    "\n",
    "# Buat edge list dari tetangga\n",
    "edges = []\n",
    "for i, neighbors in enumerate(indices):\n",
    "    for j in neighbors[1:]:  # skip dirinya sendiri\n",
    "        edges.append([i, j])\n",
    "        edges.append([j, i])  # tambahkan arah sebaliknya\n",
    "\n",
    "# Konversi ke tensor edge_index\n",
    "edge_index = torch.tensor(edges, dtype=torch.long).T\n",
    "print(f\"Total edges: {edge_index.shape[1]}\")"
   ]
  },
  {
   "cell_type": "markdown",
   "id": "47d3342f",
   "metadata": {},
   "source": [
    "Representasi edge dalam bentuk tensor (dua baris: source dan target), yang digunakan dalam PyTorch Geometric (torch_geometric.data.Data).\n",
    "\n",
    "Graph dibangun secara unsupervised berdasarkan kemiripan semantik dari fitur, yang dipercaya dapat memperkuat performa GNN dalam memahami struktur data."
   ]
  },
  {
   "cell_type": "markdown",
   "id": "d1ef4ae5",
   "metadata": {},
   "source": [
    "### Buat Graph Data Object"
   ]
  },
  {
   "cell_type": "code",
   "execution_count": 8,
   "id": "4e206e4b",
   "metadata": {},
   "outputs": [
    {
     "name": "stdout",
     "output_type": "stream",
     "text": [
      "Data(x=[82332, 42], edge_index=[2, 1646640], y=[82332])\n"
     ]
    }
   ],
   "source": [
    "from torch_geometric.data import Data\n",
    "import torch\n",
    "\n",
    "# Konversi fitur dan label ke tensor\n",
    "x = torch.tensor(X_scaled, dtype=torch.float32)  # node features\n",
    "y = torch.tensor(y_train.values, dtype=torch.long)  # node labels\n",
    "\n",
    "# Buat graph data object\n",
    "graph_data = Data(x=x, edge_index=edge_index, y=y)\n",
    "\n",
    "print(graph_data)"
   ]
  },
  {
   "cell_type": "markdown",
   "id": "b61c0ac9",
   "metadata": {},
   "source": [
    "Kode ini digunakan untuk membentuk representasi graf dari data jaringan yang telah diproses sebelumnya, sehingga bisa digunakan sebagai input untuk Graph Neural Network (GNN).\n",
    "\n",
    "Ini adalah titik awal penting untuk menggunakan GNN karena mengemas semua struktur dan informasi fitur ke dalam satu objek graf yang siap untuk dimodelkan."
   ]
  },
  {
   "cell_type": "markdown",
   "id": "a72edb15",
   "metadata": {},
   "source": [
    "## Membuat model GCN (Graph Convolutional Network)"
   ]
  },
  {
   "cell_type": "markdown",
   "id": "effe4239",
   "metadata": {},
   "source": [
    "### Membagi Node untuk Pelatihan dan Pengujian"
   ]
  },
  {
   "cell_type": "code",
   "execution_count": 9,
   "id": "a8c75402",
   "metadata": {},
   "outputs": [],
   "source": [
    "import torch\n",
    "import numpy as np\n",
    "\n",
    "# Tentukan indeks untuk training dan testing\n",
    "num_nodes = graph_data.num_nodes\n",
    "perm = torch.randperm(num_nodes)\n",
    "\n",
    "train_ratio = 0.8\n",
    "train_size = int(train_ratio * num_nodes)\n",
    "\n",
    "train_idx = perm[:train_size]\n",
    "test_idx = perm[train_size:]\n",
    "\n",
    "# Buat mask untuk train/test\n",
    "graph_data.train_mask = torch.zeros(num_nodes, dtype=torch.bool)\n",
    "graph_data.train_mask[train_idx] = True\n",
    "\n",
    "graph_data.test_mask = torch.zeros(num_nodes, dtype=torch.bool)\n",
    "graph_data.test_mask[test_idx] = True"
   ]
  },
  {
   "cell_type": "markdown",
   "id": "95f92a40",
   "metadata": {},
   "source": [
    "### Definisi Model GCN"
   ]
  },
  {
   "cell_type": "markdown",
   "id": "dae85049",
   "metadata": {},
   "source": [
    "Membangun model neural network berbasis struktur graf yang bisa mengekstrak informasi dari node dan hubungannya."
   ]
  },
  {
   "cell_type": "code",
   "execution_count": 10,
   "id": "28786fec",
   "metadata": {},
   "outputs": [],
   "source": [
    "import torch\n",
    "import torch.nn as nn\n",
    "import torch.nn.functional as F\n",
    "from torch_geometric.nn import GCNConv"
   ]
  },
  {
   "cell_type": "code",
   "execution_count": 11,
   "id": "b397e9a8",
   "metadata": {},
   "outputs": [],
   "source": [
    "class GCNModel(nn.Module):\n",
    "    def __init__(self, input_dim, hidden_dim, output_dim):\n",
    "        super(GCNModel, self).__init__()\n",
    "        self.conv1 = GCNConv(input_dim, hidden_dim)\n",
    "        self.conv2 = GCNConv(hidden_dim, output_dim)\n",
    "        self.embedding_output = None  # simpan output dari layer ke-1 (hidden)\n",
    "\n",
    "    def forward(self, data):\n",
    "        x, edge_index = data.x, data.edge_index\n",
    "        x = self.conv1(x, edge_index)\n",
    "        x = F.relu(x)\n",
    "        self.embedding_output = x  # simpan hidden layer sebagai embedding\n",
    "        x = self.conv2(x, edge_index)\n",
    "        return F.log_softmax(x, dim=1)"
   ]
  },
  {
   "cell_type": "markdown",
   "id": "6e7167ec",
   "metadata": {},
   "source": [
    "### Melatih Model"
   ]
  },
  {
   "cell_type": "markdown",
   "id": "dd052661",
   "metadata": {},
   "source": [
    "Melatih model GCN agar bisa memprediksi label dari node berdasarkan struktur dan fitur."
   ]
  },
  {
   "cell_type": "code",
   "execution_count": 13,
   "id": "efe58090",
   "metadata": {},
   "outputs": [
    {
     "name": "stdout",
     "output_type": "stream",
     "text": [
      "Epoch 10, Loss: 0.3529\n",
      "Epoch 20, Loss: 0.2725\n",
      "Epoch 30, Loss: 0.2428\n",
      "Epoch 40, Loss: 0.2247\n",
      "Epoch 50, Loss: 0.2129\n",
      "Epoch 60, Loss: 0.2036\n",
      "Epoch 70, Loss: 0.1958\n",
      "Epoch 80, Loss: 0.1883\n",
      "Epoch 90, Loss: 0.1814\n",
      "Epoch 100, Loss: 0.1755\n",
      "Epoch 110, Loss: 0.1706\n",
      "Epoch 120, Loss: 0.1663\n",
      "Epoch 130, Loss: 0.1628\n",
      "Epoch 140, Loss: 0.1617\n",
      "Epoch 150, Loss: 0.1581\n",
      "Epoch 160, Loss: 0.1556\n",
      "Epoch 170, Loss: 0.1534\n",
      "Epoch 180, Loss: 0.1518\n",
      "Epoch 190, Loss: 0.1544\n",
      "Epoch 200, Loss: 0.1504\n"
     ]
    }
   ],
   "source": [
    "device = torch.device('cuda' if torch.cuda.is_available() else 'cpu')\n",
    "\n",
    "# Panggil model GCNModel\n",
    "model = GCNModel(\n",
    "    input_dim=graph_data.num_node_features,\n",
    "    hidden_dim=64,\n",
    "    output_dim=2\n",
    ").to(device)\n",
    "\n",
    "data = graph_data.to(device)\n",
    "\n",
    "optimizer = torch.optim.Adam(model.parameters(), lr=0.01)\n",
    "loss_fn = nn.CrossEntropyLoss()\n",
    "\n",
    "for epoch in range(1, 201):\n",
    "    model.train()\n",
    "    optimizer.zero_grad()\n",
    "    out = model(data)\n",
    "    loss = loss_fn(out[data.train_mask], data.y[data.train_mask])\n",
    "    loss.backward()\n",
    "    optimizer.step()\n",
    "\n",
    "    if epoch % 10 == 0:\n",
    "        print(f'Epoch {epoch}, Loss: {loss.item():.4f}')\n"
   ]
  },
  {
   "cell_type": "markdown",
   "id": "f089de94",
   "metadata": {},
   "source": [
    "### Evaluasi"
   ]
  },
  {
   "cell_type": "code",
   "execution_count": 14,
   "id": "d59e6722",
   "metadata": {},
   "outputs": [
    {
     "name": "stdout",
     "output_type": "stream",
     "text": [
      "\n",
      "Accuracy: 0.9327\n",
      "              precision    recall  f1-score   support\n",
      "\n",
      "      Normal       0.91      0.95      0.93      7391\n",
      "      Attack       0.96      0.92      0.94      9076\n",
      "\n",
      "    accuracy                           0.93     16467\n",
      "   macro avg       0.93      0.93      0.93     16467\n",
      "weighted avg       0.93      0.93      0.93     16467\n",
      "\n"
     ]
    }
   ],
   "source": [
    "from sklearn.metrics import classification_report, accuracy_score\n",
    "\n",
    "# Evaluasi di test set\n",
    "model.eval()\n",
    "with torch.no_grad():\n",
    "    out = model(data)\n",
    "    pred = out.argmax(dim=1)\n",
    "\n",
    "# Ambil label prediksi dan ground truth dari test_mask\n",
    "y_true = data.y[data.test_mask].cpu().numpy()\n",
    "y_pred = pred[data.test_mask].cpu().numpy()\n",
    "\n",
    "# Evaluasi\n",
    "acc = accuracy_score(y_true, y_pred)\n",
    "report = classification_report(y_true, y_pred, target_names=[\"Normal\", \"Attack\"])\n",
    "\n",
    "print(f\"\\nAccuracy: {acc:.4f}\")\n",
    "print(report)"
   ]
  },
  {
   "cell_type": "markdown",
   "id": "05af6f3f",
   "metadata": {},
   "source": [
    "- Precision tinggi untuk “Attack” (0.96) artinya model jarang salah mendeteksi serangan.\n",
    "- Recall tinggi untuk “Normal” (0.95) artinya model juga bagus mengenali aktivitas yang tidak berbahaya.\n",
    "- F1-score seimbang artinya tidak ada bias besar ke salah satu kelas."
   ]
  },
  {
   "cell_type": "markdown",
   "id": "25e12f32",
   "metadata": {},
   "source": [
    "Model GNN kamu berhasil mempelajari representasi dari graph dan fitur node untuk membedakan lalu lintas normal dan serangan."
   ]
  },
  {
   "cell_type": "markdown",
   "id": "9a8a9e37",
   "metadata": {},
   "source": [
    "### Simpan Embedding"
   ]
  },
  {
   "cell_type": "code",
   "execution_count": 15,
   "id": "7c4f69e6",
   "metadata": {},
   "outputs": [],
   "source": [
    "model.eval()\n",
    "with torch.no_grad():\n",
    "    out = model(graph_data)  # hasil klasifikasi\n",
    "    gnn_embeddings = model.embedding_output.cpu().numpy()  # hasil feature extraction\n",
    "    labels_np = graph_data.y.cpu().numpy()"
   ]
  },
  {
   "cell_type": "markdown",
   "id": "03e36db9",
   "metadata": {},
   "source": [
    "# Integrasi ke Reinforcement Learning"
   ]
  },
  {
   "cell_type": "markdown",
   "id": "f87c1b64",
   "metadata": {},
   "source": [
    "Penggunakan hasil feature extraction dari GCN (yaitu gnn_embeddings) sebagai state untuk agen RL, agar ia bisa belajar mengambil keputusan: apakah suatu node (lalu lintas jaringan) merupakan serangan atau bukan."
   ]
  },
  {
   "cell_type": "code",
   "execution_count": 25,
   "id": "d6eb3211",
   "metadata": {},
   "outputs": [
    {
     "data": {
      "text/plain": [
       "Counter({np.int64(1): 45332, np.int64(0): 37000})"
      ]
     },
     "execution_count": 25,
     "metadata": {},
     "output_type": "execute_result"
    }
   ],
   "source": [
    "from collections import Counter\n",
    "\n",
    "# Label target dari dataset\n",
    "Counter(labels_np)"
   ]
  },
  {
   "cell_type": "markdown",
   "id": "3058bb66",
   "metadata": {},
   "source": [
    "### Buat Environment RL "
   ]
  },
  {
   "cell_type": "code",
   "execution_count": 26,
   "id": "2aac21e2",
   "metadata": {},
   "outputs": [],
   "source": [
    "import gym\n",
    "from gym import spaces\n",
    "import numpy as np\n",
    "\n",
    "class NetworkEnv(gym.Env):\n",
    "    def __init__(self, embeddings, labels):\n",
    "        super(NetworkEnv, self).__init__()\n",
    "        self.embeddings = embeddings\n",
    "        self.labels = labels\n",
    "        self.num_nodes = len(labels)\n",
    "        self.current_node = 0\n",
    "\n",
    "        # Observation = embedding (hasil GCN)\n",
    "        self.observation_space = spaces.Box(\n",
    "            low=-np.inf,\n",
    "            high=np.inf,\n",
    "            shape=(embeddings.shape[1],),\n",
    "            dtype=np.float32\n",
    "        )\n",
    "\n",
    "        # Actions: 0 = Normal, 1 = Attack\n",
    "        self.action_space = spaces.Discrete(2)\n",
    "\n",
    "    def reset(self):\n",
    "        self.current_node = 0\n",
    "        return self.embeddings[self.current_node]\n",
    "\n",
    "    def step(self, action):\n",
    "        true_label = self.labels[self.current_node]\n",
    "\n",
    "        # Imbalanced-sensitive reward function\n",
    "        if action == true_label:\n",
    "            reward = 2 if true_label == 1 else 1\n",
    "        else:\n",
    "            reward = -2 if true_label == 1 else -1\n",
    "\n",
    "        self.current_node += 1\n",
    "        done = self.current_node >= self.num_nodes\n",
    "\n",
    "        if not done:\n",
    "            next_state = self.embeddings[self.current_node]\n",
    "        else:\n",
    "            next_state = np.zeros_like(self.embeddings[0])\n",
    "\n",
    "        return next_state, reward, done, {'label': true_label}"
   ]
  },
  {
   "cell_type": "markdown",
   "id": "18d5aeff",
   "metadata": {},
   "source": [
    "### Buat DQN Agent"
   ]
  },
  {
   "cell_type": "code",
   "execution_count": 27,
   "id": "20196cd8",
   "metadata": {},
   "outputs": [],
   "source": [
    "import torch.nn as nn\n",
    "import torch.nn.functional as F\n",
    "\n",
    "class DQN(nn.Module):\n",
    "    def __init__(self, input_dim, output_dim):\n",
    "        super(DQN, self).__init__()\n",
    "        self.fc1 = nn.Linear(input_dim, 64)\n",
    "        self.fc2 = nn.Linear(64, output_dim)\n",
    "\n",
    "    def forward(self, x):\n",
    "        x = F.relu(self.fc1(x))\n",
    "        return self.fc2(x)"
   ]
  },
  {
   "cell_type": "markdown",
   "id": "00a30322",
   "metadata": {},
   "source": [
    "### Latih Agen RL (Deep Q-Learning)"
   ]
  },
  {
   "cell_type": "code",
   "execution_count": 28,
   "id": "88a0ab9a",
   "metadata": {},
   "outputs": [
    {
     "name": "stdout",
     "output_type": "stream",
     "text": [
      "Episode 0, Total Reward: -368, Epsilon: 0.995\n",
      "Episode 1, Total Reward: 186, Epsilon: 0.990\n",
      "Episode 2, Total Reward: 998, Epsilon: 0.985\n",
      "Episode 3, Total Reward: 2450, Epsilon: 0.980\n",
      "Episode 4, Total Reward: 2262, Epsilon: 0.975\n",
      "Episode 5, Total Reward: 2276, Epsilon: 0.970\n",
      "Episode 6, Total Reward: 3236, Epsilon: 0.966\n",
      "Episode 7, Total Reward: 4438, Epsilon: 0.961\n",
      "Episode 8, Total Reward: 5170, Epsilon: 0.956\n",
      "Episode 9, Total Reward: 4824, Epsilon: 0.951\n"
     ]
    }
   ],
   "source": [
    "import torch.optim as optim\n",
    "import random\n",
    "import torch\n",
    "\n",
    "# Hyperparameter\n",
    "num_episodes = 10\n",
    "gamma = 0.99\n",
    "epsilon = 1.0\n",
    "epsilon_decay = 0.995\n",
    "epsilon_min = 0.1\n",
    "lr = 0.001\n",
    "\n",
    "device = torch.device('cuda' if torch.cuda.is_available() else 'cpu')\n",
    "env = NetworkEnv(gnn_embeddings, labels_np)\n",
    "agent = DQN(input_dim=gnn_embeddings.shape[1], output_dim=2).to(device)\n",
    "optimizer = optim.Adam(agent.parameters(), lr=lr)\n",
    "loss_fn = nn.MSELoss()\n",
    "\n",
    "reward_history = []\n",
    "\n",
    "for episode in range(num_episodes):\n",
    "    state = env.reset()\n",
    "    state = torch.tensor(state, dtype=torch.float32).to(device)\n",
    "    done = False\n",
    "    total_reward = 0\n",
    "\n",
    "    while not done:\n",
    "        # Epsilon-greedy action\n",
    "        if random.random() < epsilon:\n",
    "            action = random.randint(0, 1)\n",
    "        else:\n",
    "            with torch.no_grad():\n",
    "                q_values = agent(state)\n",
    "                action = torch.argmax(q_values).item()\n",
    "\n",
    "        next_state, reward, done, _ = env.step(action)\n",
    "        total_reward += reward\n",
    "\n",
    "        next_state_tensor = torch.tensor(next_state, dtype=torch.float32).to(device)\n",
    "        reward_tensor = torch.tensor([reward], dtype=torch.float32).to(device)\n",
    "        action_tensor = torch.tensor([action], dtype=torch.long).to(device)\n",
    "\n",
    "        # Target Q-value\n",
    "        with torch.no_grad():\n",
    "            max_next_q = torch.max(agent(next_state_tensor))\n",
    "            target_q = reward_tensor + (gamma * max_next_q)\n",
    "\n",
    "        current_q = agent(state)[action_tensor]\n",
    "\n",
    "        loss = loss_fn(current_q, target_q)\n",
    "        optimizer.zero_grad()\n",
    "        loss.backward()\n",
    "        optimizer.step()\n",
    "\n",
    "        state = next_state_tensor\n",
    "\n",
    "    reward_history.append(total_reward)\n",
    "    epsilon = max(epsilon * epsilon_decay, epsilon_min)\n",
    "\n",
    "    print(f\"Episode {episode}, Total Reward: {total_reward}, Epsilon: {epsilon:.3f}\")\n"
   ]
  },
  {
   "cell_type": "code",
   "execution_count": 22,
   "id": "d684c6f7",
   "metadata": {},
   "outputs": [
    {
     "name": "stdout",
     "output_type": "stream",
     "text": [
      "Evaluation total reward: -8340\n",
      "              precision    recall  f1-score   support\n",
      "\n",
      "      Normal       0.45      1.00      0.62     37000\n",
      "      Attack       0.42      0.00      0.00     45332\n",
      "\n",
      "    accuracy                           0.45     82332\n",
      "   macro avg       0.44      0.50      0.31     82332\n",
      "weighted avg       0.43      0.45      0.28     82332\n",
      "\n"
     ]
    }
   ],
   "source": [
    "from sklearn.metrics import classification_report\n",
    "\n",
    "agent.eval()\n",
    "state = env.reset()\n",
    "state = torch.tensor(state, dtype=torch.float32).to(device)\n",
    "done = False\n",
    "total_reward = 0\n",
    "\n",
    "true_labels = []\n",
    "predictions = []\n",
    "\n",
    "step_index = 0  # Indeks node yang sedang dievaluasi\n",
    "\n",
    "while not done:\n",
    "    with torch.no_grad():\n",
    "        q_values = agent(state)\n",
    "        action = torch.argmax(q_values).item()\n",
    "\n",
    "    next_state, reward, done, _ = env.step(action)\n",
    "    total_reward += reward\n",
    "\n",
    "    predictions.append(action)\n",
    "    true_labels.append(labels_np[step_index])  # Ambil label dari array label asli\n",
    "    step_index += 1\n",
    "\n",
    "    state = torch.tensor(next_state, dtype=torch.float32).to(device)\n",
    "\n",
    "print(f\"Evaluation total reward: {total_reward}\")\n",
    "\n",
    "# Evaluasi klasifikasi\n",
    "print(classification_report(true_labels, predictions, target_names=[\"Normal\", \"Attack\"]))"
   ]
  },
  {
   "cell_type": "code",
   "execution_count": 29,
   "id": "f06c39c4",
   "metadata": {},
   "outputs": [],
   "source": [
    "# Simpan model GCN ke file\n",
    "torch.save(model.state_dict(), 'model_gcn.pt')"
   ]
  },
  {
   "cell_type": "code",
   "execution_count": 30,
   "id": "118bf8a3",
   "metadata": {},
   "outputs": [],
   "source": [
    "# Simpan model DQN\n",
    "torch.save(agent.state_dict(), 'model_dqn.pt')"
   ]
  }
 ],
 "metadata": {
  "kernelspec": {
   "display_name": "myenv",
   "language": "python",
   "name": "python3"
  },
  "language_info": {
   "codemirror_mode": {
    "name": "ipython",
    "version": 3
   },
   "file_extension": ".py",
   "mimetype": "text/x-python",
   "name": "python",
   "nbconvert_exporter": "python",
   "pygments_lexer": "ipython3",
   "version": "3.11.0"
  }
 },
 "nbformat": 4,
 "nbformat_minor": 5
}
